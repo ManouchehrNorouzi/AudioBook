{
 "cells": [
  {
   "cell_type": "code",
   "execution_count": 1,
   "metadata": {},
   "outputs": [],
   "source": [
    "import numpy as np\n",
    "from sklearn import preprocessing\n",
    "import tensorflow as tf"
   ]
  },
  {
   "cell_type": "markdown",
   "metadata": {},
   "source": [
    "### Load the data"
   ]
  },
  {
   "cell_type": "code",
   "execution_count": 2,
   "metadata": {},
   "outputs": [],
   "source": [
    "raw_csv_data= np.loadtxt('Audiobooks_data.csv', delimiter= ',')\n",
    "\n",
    "unscaled_inputs_all= raw_csv_data[:,1:-1]\n",
    "targets_all= raw_csv_data[:,-1]"
   ]
  },
  {
   "cell_type": "code",
   "execution_count": 3,
   "metadata": {},
   "outputs": [
    {
     "data": {
      "text/plain": [
       "(14084, 12)"
      ]
     },
     "execution_count": 3,
     "metadata": {},
     "output_type": "execute_result"
    }
   ],
   "source": [
    "raw_csv_data.shape"
   ]
  },
  {
   "cell_type": "markdown",
   "metadata": {},
   "source": [
    "### Balance the dataset\n",
    "The count of 1s and 0s in targets must be balanced, meaning about 50%.\n",
    "From the excell file, we see that there are much zeros than ones, so we balance 1s and 0s and delete the rest."
   ]
  },
  {
   "cell_type": "code",
   "execution_count": 4,
   "metadata": {},
   "outputs": [],
   "source": [
    "num_one_targets= int(np.sum(targets_all))\n",
    "zero_targets_counter = 0\n",
    "indices_to_remove= []\n",
    "\n",
    "for i in range(targets_all.shape[0]):\n",
    "    if targets_all[i]== 0:\n",
    "        zero_targets_counter += 1\n",
    "        if zero_targets_counter > num_one_targets:\n",
    "            indices_to_remove.append(i)\n",
    "            \n",
    "unscaled_inputs_equal_priors= np.delete(unscaled_inputs_all, indices_to_remove, axis=0)\n",
    "targets_equal_priors= np.delete(targets_all, indices_to_remove, axis= 0)"
   ]
  },
  {
   "cell_type": "markdown",
   "metadata": {},
   "source": [
    "### Standardize the inputs"
   ]
  },
  {
   "cell_type": "code",
   "execution_count": 5,
   "metadata": {},
   "outputs": [],
   "source": [
    "scaled_inputs= preprocessing.scale(unscaled_inputs_equal_priors)"
   ]
  },
  {
   "cell_type": "markdown",
   "metadata": {},
   "source": [
    "### Shuffle the data\n",
    "We will be batching, so we need to shuffle to randomize it."
   ]
  },
  {
   "cell_type": "code",
   "execution_count": 6,
   "metadata": {},
   "outputs": [],
   "source": [
    "# np.arange() is a method taht returns an evenly spaced values within a given interval.\n",
    "# np.random.shuffle() is a method that shuffles the numbers in a given sequence\n",
    "\n",
    "shuffled_indices= np.arange(scaled_inputs.shape[0])\n",
    "np.random.shuffle(shuffled_indices)\n",
    "\n",
    "shuffled_inputs= scaled_inputs[shuffled_indices]\n",
    "shuffled_targets= targets_equal_priors[shuffled_indices]"
   ]
  },
  {
   "cell_type": "markdown",
   "metadata": {},
   "source": [
    "### Split the dataset into train, validation, and test"
   ]
  },
  {
   "cell_type": "code",
   "execution_count": 7,
   "metadata": {},
   "outputs": [
    {
     "name": "stdout",
     "output_type": "stream",
     "text": [
      "1806.0 3579 0.5046102263202011\n",
      "231.0 447 0.5167785234899329\n",
      "200.0 448 0.44642857142857145\n"
     ]
    }
   ],
   "source": [
    "samples_count= shuffled_inputs.shape[0]\n",
    "\n",
    "train_samples_count= int(0.8 * samples_count)\n",
    "validation_samples_count= int(0.1 * samples_count)\n",
    "test_samples_count= samples_count - (train_samples_count + validation_samples_count)\n",
    "\n",
    "train_inputs= shuffled_inputs[:train_samples_count]\n",
    "train_targets= shuffled_targets[:train_samples_count]\n",
    "\n",
    "validation_inputs= shuffled_inputs[train_samples_count: train_samples_count + validation_samples_count]\n",
    "validation_targets= shuffled_targets[train_samples_count: train_samples_count + validation_samples_count]\n",
    "\n",
    "test_inputs= shuffled_inputs[train_samples_count+ validation_samples_count:]\n",
    "test_targets= shuffled_targets[train_samples_count+ validation_samples_count:]\n",
    "\n",
    "# The target must be balanced:\n",
    "print(np.sum(train_targets), train_samples_count, np.sum(train_targets)/train_samples_count)\n",
    "print(np.sum(validation_targets), validation_samples_count, np.sum(validation_targets)/validation_samples_count)\n",
    "print(np.sum(test_targets), test_samples_count, np.sum(test_targets)/test_samples_count)"
   ]
  },
  {
   "cell_type": "markdown",
   "metadata": {},
   "source": [
    "### Save/Load the datasets in *.npz"
   ]
  },
  {
   "cell_type": "code",
   "execution_count": 8,
   "metadata": {},
   "outputs": [],
   "source": [
    "np.savez('Audiobooks_data_train', inputs= train_inputs, targets= train_targets)\n",
    "np.savez('Audiobooks_data_validation', inputs= validation_inputs, targets= validation_targets)\n",
    "np.savez('Audiobooks_data_test', inputs= test_inputs, targets= test_targets)"
   ]
  },
  {
   "cell_type": "markdown",
   "metadata": {},
   "source": [
    "We have 10 inputs in input layer, 2 outputs (0,1), and we define 2 hidden layers with 50 units. 50units provide much comlexity, so it is more suffisticated than linear or logistic regression. We can change 50 to a higeher value, but it makes more runtime."
   ]
  },
  {
   "cell_type": "code",
   "execution_count": 9,
   "metadata": {},
   "outputs": [],
   "source": [
    "npz= np.load('Audiobooks_data_train.npz')\n",
    "train_inputs= npz['inputs'].astype(float)\n",
    "train_targets= npz['targets'].astype(int)\n",
    "\n",
    "npzv= np.load('Audiobooks_data_validation.npz')\n",
    "validation_inputs= npzv['inputs'].astype(float)\n",
    "validation_targets= npzv['targets'].astype(int)\n",
    "\n",
    "npzt= np.load('Audiobooks_data_test.npz')\n",
    "test_inputs= npzt['inputs'].astype(float)\n",
    "test_targets= npzt['targets'].astype(int)"
   ]
  },
  {
   "cell_type": "code",
   "execution_count": 10,
   "metadata": {},
   "outputs": [
    {
     "name": "stdout",
     "output_type": "stream",
     "text": [
      "Epoch 1/100\n",
      "36/36 - 0s - loss: 0.5840 - accuracy: 0.6882 - val_loss: 0.5146 - val_accuracy: 0.7360\n",
      "Epoch 2/100\n",
      "36/36 - 0s - loss: 0.4650 - accuracy: 0.7558 - val_loss: 0.4481 - val_accuracy: 0.7629\n",
      "Epoch 3/100\n",
      "36/36 - 0s - loss: 0.4162 - accuracy: 0.7832 - val_loss: 0.4121 - val_accuracy: 0.7897\n",
      "Epoch 4/100\n",
      "36/36 - 0s - loss: 0.3934 - accuracy: 0.7949 - val_loss: 0.4019 - val_accuracy: 0.7696\n",
      "Epoch 5/100\n",
      "36/36 - 0s - loss: 0.3754 - accuracy: 0.8078 - val_loss: 0.3839 - val_accuracy: 0.8076\n",
      "Epoch 6/100\n",
      "36/36 - 0s - loss: 0.3652 - accuracy: 0.8066 - val_loss: 0.3764 - val_accuracy: 0.8031\n",
      "Epoch 7/100\n",
      "36/36 - 0s - loss: 0.3564 - accuracy: 0.8195 - val_loss: 0.3724 - val_accuracy: 0.7830\n",
      "Epoch 8/100\n",
      "36/36 - 0s - loss: 0.3514 - accuracy: 0.8142 - val_loss: 0.3707 - val_accuracy: 0.7919\n",
      "Epoch 9/100\n",
      "36/36 - 0s - loss: 0.3464 - accuracy: 0.8156 - val_loss: 0.3666 - val_accuracy: 0.7964\n",
      "Epoch 10/100\n",
      "36/36 - 0s - loss: 0.3435 - accuracy: 0.8148 - val_loss: 0.3523 - val_accuracy: 0.8076\n",
      "Epoch 11/100\n",
      "36/36 - 0s - loss: 0.3401 - accuracy: 0.8170 - val_loss: 0.3508 - val_accuracy: 0.8233\n",
      "Epoch 12/100\n",
      "36/36 - 0s - loss: 0.3369 - accuracy: 0.8173 - val_loss: 0.3633 - val_accuracy: 0.7942\n",
      "Epoch 13/100\n",
      "36/36 - 0s - loss: 0.3355 - accuracy: 0.8245 - val_loss: 0.3482 - val_accuracy: 0.8009\n",
      "Epoch 14/100\n",
      "36/36 - 0s - loss: 0.3337 - accuracy: 0.8231 - val_loss: 0.3416 - val_accuracy: 0.8300\n",
      "Epoch 15/100\n",
      "36/36 - 0s - loss: 0.3303 - accuracy: 0.8256 - val_loss: 0.3337 - val_accuracy: 0.8367\n",
      "Epoch 16/100\n",
      "36/36 - 0s - loss: 0.3264 - accuracy: 0.8270 - val_loss: 0.3325 - val_accuracy: 0.8345\n",
      "Epoch 17/100\n",
      "36/36 - 0s - loss: 0.3260 - accuracy: 0.8290 - val_loss: 0.3401 - val_accuracy: 0.8054\n",
      "Epoch 18/100\n",
      "36/36 - 0s - loss: 0.3256 - accuracy: 0.8237 - val_loss: 0.3361 - val_accuracy: 0.8098\n"
     ]
    },
    {
     "data": {
      "text/plain": [
       "<keras.callbacks.History at 0x20d17b922e0>"
      ]
     },
     "execution_count": 10,
     "metadata": {},
     "output_type": "execute_result"
    }
   ],
   "source": [
    "input_size= 10\n",
    "output_size= 2\n",
    "hidden_layer_size= 50\n",
    "\n",
    "model= tf.keras.Sequential([\n",
    "                            tf.keras.layers.Dense(hidden_layer_size, activation='relu'),\n",
    "                            tf.keras.layers.Dense(hidden_layer_size, activation='relu'),\n",
    "                            tf.keras.layers.Dense(output_size, activation= 'softmax')\n",
    "                            ])\n",
    "\n",
    "model.compile(optimizer= 'adam', loss= 'sparse_categorical_crossentropy', metrics= ['accuracy'])\n",
    "\n",
    "batch_size= 100\n",
    "max_epochs= 100\n",
    "early_stopping= tf.keras.callbacks.EarlyStopping(patience= 2)  # This is a readyly available structure\n",
    "\n",
    "model.fit(train_inputs,\n",
    "          train_targets,\n",
    "          batch_size= batch_size,\n",
    "          epochs= max_epochs,\n",
    "          callbacks= early_stopping,\n",
    "          validation_data=(validation_inputs, validation_targets),\n",
    "          verbose= 2)\n",
    "\n",
    "# If wwe notice, in some epochs, overfitting happens, this means while the training loss(first loss column) is\n",
    "# consistantly decreasing, validation_loss was sometimes increasing. So we need to set early stopping.\n",
    "\n",
    "# By default, the early_stopping object will monitor the validation loss and stop the training process the first time\n",
    "# the validation loss starts increasing.\n",
    "\n",
    "# tf.keras.callbacks.EarlyStopping(patience) comfigures the early stopping mechanism of the algorithm. 'patience' lets us decide how many consecutive increases we can tolerate."
   ]
  },
  {
   "cell_type": "markdown",
   "metadata": {},
   "source": [
    "The final validation accuracy of the model is around 83%. the proior is 50%, so the algorithm definitly learned alot.\n",
    "\n",
    "Around 83% of the fututre customer behavior is classified correctly."
   ]
  },
  {
   "cell_type": "markdown",
   "metadata": {},
   "source": [
    "### Test the model"
   ]
  },
  {
   "cell_type": "code",
   "execution_count": 11,
   "metadata": {},
   "outputs": [
    {
     "name": "stdout",
     "output_type": "stream",
     "text": [
      "14/14 [==============================] - 0s 969us/step - loss: 0.3517 - accuracy: 0.8103\n"
     ]
    }
   ],
   "source": [
    "test_loss, test_accuracy= model.evaluate(test_inputs, test_targets)"
   ]
  },
  {
   "cell_type": "code",
   "execution_count": 12,
   "metadata": {},
   "outputs": [
    {
     "name": "stdout",
     "output_type": "stream",
     "text": [
      "Test loss: 0.35.  Test accuracy: 81.03%\n"
     ]
    }
   ],
   "source": [
    "print('Test loss: {0:,.2f}.  Test accuracy: {1:,.2f}%'.format(test_loss, test_accuracy*100.))"
   ]
  },
  {
   "cell_type": "code",
   "execution_count": null,
   "metadata": {},
   "outputs": [],
   "source": []
  }
 ],
 "metadata": {
  "kernelspec": {
   "display_name": "Python [conda env:py3-TF2.0]",
   "language": "python",
   "name": "conda-env-py3-TF2.0-py"
  },
  "language_info": {
   "codemirror_mode": {
    "name": "ipython",
    "version": 3
   },
   "file_extension": ".py",
   "mimetype": "text/x-python",
   "name": "python",
   "nbconvert_exporter": "python",
   "pygments_lexer": "ipython3",
   "version": "3.9.6"
  }
 },
 "nbformat": 4,
 "nbformat_minor": 4
}
